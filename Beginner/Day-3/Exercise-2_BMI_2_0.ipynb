{
  "nbformat": 4,
  "nbformat_minor": 0,
  "metadata": {
    "colab": {
      "provenance": []
    },
    "kernelspec": {
      "name": "python3",
      "display_name": "Python 3"
    },
    "language_info": {
      "name": "python"
    }
  },
  "cells": [
    {
      "cell_type": "markdown",
      "source": [
        "# Instructions\n"
      ],
      "metadata": {
        "id": "pFxkV8FbA1KE"
      }
    },
    {
      "cell_type": "markdown",
      "source": [
        "Write a program that interprets the Body Mass Index (BMI) based on a user's weight and height.\n",
        "\n",
        "It should tell them the interpretation of their BMI based on the BMI value.\n",
        "\n",
        "Under 18.5 they are underweight\\\n",
        "Over 18.5 but below 25 they have a normal weight\\\n",
        "Over 25 but below 30 they are slightly overweight\\\n",
        "Over 30 but below 35 they are obese\\\n",
        "Above 35 they are clinically obese.\n",
        "\n",
        "The BMI is calculated by dividing a person's weight (in kg) by the square of their height (in m):\n",
        "\n",
        "BMI = weight (kg) / height^2 (m^2)\n",
        "\n",
        "**Warning** you should **round** the result to the nearest whole number. The interpretation message needs to include the words in bold from the interpretations above. e.g. underweight, normal weight, overweight, obese, clinically obese."
      ],
      "metadata": {
        "id": "RsKs5uB5F4h1"
      }
    },
    {
      "cell_type": "markdown",
      "source": [
        "# Example Input\n",
        "weight = 85\\\n",
        "height = 1.75"
      ],
      "metadata": {
        "id": "9agPBKuKHqIq"
      }
    },
    {
      "cell_type": "markdown",
      "source": [
        "#Example Output\n",
        "85 ÷ (1.75 x 1.75) = 27.755102040816325\\\n",
        "Your BMI is 28, you are slightly overweight."
      ],
      "metadata": {
        "id": "ztftJyg3BPDW"
      }
    },
    {
      "cell_type": "markdown",
      "source": [
        "# Solution"
      ],
      "metadata": {
        "id": "f6ae6kSBPtlh"
      }
    },
    {
      "cell_type": "code",
      "source": [
        "# 🚨 Don't change the code below 👇\n",
        "height = float(input(\"enter your height in m: \"))\n",
        "weight = float(input(\"enter your weight in kg: \"))\n",
        "# 🚨 Don't change the code above 👆\n",
        "\n",
        "#Write your code below this line 👇\n",
        "\n",
        "BMI = round(weight / height**2)\n",
        "if BMI < 18.5:\n",
        "    print(f\"Your BMI is {BMI}, you are underweight.\")\n",
        "elif BMI < 25:\n",
        "    print(f\"Your BMI is {BMI}, you have a normal weight.\")\n",
        "elif BMI < 30:\n",
        "    print(f\"Your BMI is {BMI}, you are slightly overweight.\")\n",
        "elif BMI < 35:\n",
        "    print(f\"Your BMI is {BMI}, you are obese.\")\n",
        "else:\n",
        "    print(f\"Your BMI id {BMI}, you are clinically obese.\")"
      ],
      "metadata": {
        "id": "WIsoD7XmU0pC",
        "colab": {
          "base_uri": "https://localhost:8080/"
        },
        "outputId": "091eb4a1-57df-4490-e5e5-ff4c09b8c4f1"
      },
      "execution_count": 2,
      "outputs": [
        {
          "output_type": "stream",
          "name": "stdout",
          "text": [
            "enter your height in m: 1.2\n",
            "enter your weight in kg: 45\n",
            "Your BMI is 31, you are obese.\n"
          ]
        }
      ]
    },
    {
      "cell_type": "code",
      "source": [],
      "metadata": {
        "id": "KeeAJPjpGki6"
      },
      "execution_count": null,
      "outputs": []
    }
  ]
}