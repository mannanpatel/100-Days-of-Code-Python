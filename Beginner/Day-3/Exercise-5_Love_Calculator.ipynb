{
  "nbformat": 4,
  "nbformat_minor": 0,
  "metadata": {
    "colab": {
      "provenance": []
    },
    "kernelspec": {
      "name": "python3",
      "display_name": "Python 3"
    },
    "language_info": {
      "name": "python"
    }
  },
  "cells": [
    {
      "cell_type": "markdown",
      "source": [
        "# Instructions\n"
      ],
      "metadata": {
        "id": "pFxkV8FbA1KE"
      }
    },
    {
      "cell_type": "markdown",
      "source": [
        "You are going to write a program that tests the compatibility between two people.\n",
        "\n",
        "To work out the love score between two people:\n",
        "\n",
        "      Take both people's names and check for the number of times the letters in the word TRUE occurs.\n",
        "\n",
        "      Then check for the number of times the letters in the word LOVE occurs. \n",
        "\n",
        "      Then combine these numbers to make a 2 digit number.\n",
        "\n",
        "For Love Scores less than 10 or greater than 90, the message should be:\n",
        "\n",
        "    \"Your score is **x**, you go together like coke and mentos.\"\n",
        "\n",
        "For Love Scores between 40 and 50, the message should be:\n",
        "\n",
        "    \"Your score is **y**, you are alright together.\"\n",
        "\n",
        "Otherwise, the message will just be their score. e.g.:\n",
        "\n",
        "    \"Your score is **z**.\"\n",
        "e.g.\n",
        "\n",
        "name1 = \"Angela Yu\"\n",
        "name2 = \"Jack Bauer\"\n",
        "T occurs 0 times\n",
        "\n",
        "R occurs 1 time\n",
        "\n",
        "U occurs 2 times\n",
        "\n",
        "E occurs 2 times\n",
        "\n",
        "Total = 5\n",
        "\n",
        "L occurs 1 time\n",
        "\n",
        "O occurs 0 times\n",
        "\n",
        "V occurs 0 times\n",
        "\n",
        "E occurs 2 times\n",
        "\n",
        "Total = 3\n",
        "\n",
        "Love Score = 53\n",
        "\n",
        "Print: \"Your score is 53.\""
      ],
      "metadata": {
        "id": "RsKs5uB5F4h1"
      }
    },
    {
      "cell_type": "markdown",
      "source": [
        "# Example Input\n",
        "name1 = David Beckham\\\n",
        "name2 = Victoria Beckham"
      ],
      "metadata": {
        "id": "9agPBKuKHqIq"
      }
    },
    {
      "cell_type": "markdown",
      "source": [
        "#Example Output\n",
        "Your score is 45, you are alright together."
      ],
      "metadata": {
        "id": "ztftJyg3BPDW"
      }
    },
    {
      "cell_type": "markdown",
      "source": [
        "# Solution"
      ],
      "metadata": {
        "id": "f6ae6kSBPtlh"
      }
    },
    {
      "cell_type": "code",
      "source": [
        "# 🚨 Don't change the code below 👇\n",
        "print(\"Welcome to the Love Calculator!\")\n",
        "name1 = input(\"What is your name? \\n\")\n",
        "name2 = input(\"What is their name? \\n\")\n",
        "# 🚨 Don't change the code above 👆\n",
        "\n",
        "#Write your code below this line 👇\n",
        "\n",
        "combine_str = name1 + name2\n",
        "convt_lower_case = combine_str.lower()\n",
        "\n",
        "t = convt_lower_case.count(\"t\")\n",
        "r = convt_lower_case.count(\"r\")\n",
        "u = convt_lower_case.count(\"u\")\n",
        "e = convt_lower_case.count(\"e\")\n",
        "\n",
        "true_count =  t + r + u + e\n",
        "\n",
        "l = convt_lower_case.count(\"l\")\n",
        "o = convt_lower_case.count(\"o\")\n",
        "v = convt_lower_case.count(\"v\")\n",
        "e = convt_lower_case.count(\"e\")\n",
        "\n",
        "love_count = l + o + v + e\n",
        "\n",
        "love_score = int(str(true_count) + str(love_count))\n",
        "\n",
        "if love_score < 10 or love_score > 90:\n",
        "    print(f\"Your score is {love_score}, you go together like coke and mentos.\")\n",
        "elif love_score >= 40 and love_score <= 50:\n",
        "    print(f\"Your score is {love_score}, you are alright together.\")\n",
        "else:\n",
        "    print(f\"Your score is {love_score}.\")\n",
        "     \n"
      ],
      "metadata": {
        "id": "WIsoD7XmU0pC",
        "colab": {
          "base_uri": "https://localhost:8080/"
        },
        "outputId": "757774ca-5bc4-4f4f-d01a-17d63c0f1aeb"
      },
      "execution_count": 6,
      "outputs": [
        {
          "output_type": "stream",
          "name": "stdout",
          "text": [
            "Welcome to the Love Calculator!\n",
            "What is your name? \n",
            "David Beckham\n",
            "What is their name? \n",
            "Victoria Beckham\n",
            "Your score is 45, you are alright together.\n"
          ]
        }
      ]
    },
    {
      "cell_type": "code",
      "source": [],
      "metadata": {
        "id": "KeeAJPjpGki6"
      },
      "execution_count": 6,
      "outputs": []
    }
  ]
}