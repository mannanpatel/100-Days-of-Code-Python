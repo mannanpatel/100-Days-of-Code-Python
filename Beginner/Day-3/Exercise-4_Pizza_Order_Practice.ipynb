{
  "nbformat": 4,
  "nbformat_minor": 0,
  "metadata": {
    "colab": {
      "provenance": []
    },
    "kernelspec": {
      "name": "python3",
      "display_name": "Python 3"
    },
    "language_info": {
      "name": "python"
    }
  },
  "cells": [
    {
      "cell_type": "markdown",
      "source": [
        "# Instructions\n"
      ],
      "metadata": {
        "id": "pFxkV8FbA1KE"
      }
    },
    {
      "cell_type": "markdown",
      "source": [
        "Congratulations, you've got a job at Python Pizza. Your first job is to build an automatic pizza order program.\n",
        "\n",
        "Based on a user's order, work out their final bill.\n",
        "\n",
        "Small Pizza: $15\n",
        "\n",
        "Medium Pizza: $20\n",
        "\n",
        "Large Pizza: $25\n",
        "\n",
        "Pepperoni for Small Pizza: +$2\n",
        "\n",
        "Pepperoni for Medium or Large Pizza: +$3\n",
        "\n",
        "Extra cheese for any size pizza: + $1"
      ],
      "metadata": {
        "id": "RsKs5uB5F4h1"
      }
    },
    {
      "cell_type": "markdown",
      "source": [
        "# Example Input\n",
        "size = \"L\"\\\n",
        "add_pepperoni = \"Y\"\\\n",
        "extra_cheese = \"N\""
      ],
      "metadata": {
        "id": "9agPBKuKHqIq"
      }
    },
    {
      "cell_type": "markdown",
      "source": [
        "#Example Output\n",
        "Your final bill is: $28.\n"
      ],
      "metadata": {
        "id": "ztftJyg3BPDW"
      }
    },
    {
      "cell_type": "markdown",
      "source": [
        "# Solution"
      ],
      "metadata": {
        "id": "f6ae6kSBPtlh"
      }
    },
    {
      "cell_type": "code",
      "source": [
        "# 🚨 Don't change the code below 👇\n",
        "print(\"Welcome to Python Pizza Deliveries!\")\n",
        "size = input(\"What size pizza do you want? S, M, or L \")\n",
        "add_pepperoni = input(\"Do you want pepperoni? Y or N \")\n",
        "extra_cheese = input(\"Do you want extra cheese? Y or N \")\n",
        "# 🚨 Don't change the code above 👆\n",
        "\n",
        "#Write your code below this line 👇\n",
        "amount = 0\n",
        "\n",
        "if size == \"S\":\n",
        "    amount  += 15\n",
        "elif size == \"M\":\n",
        "    amount += 20\n",
        "else:\n",
        "    amount += 25\n",
        "\n",
        "if add_pepperoni == \"Y\":\n",
        "    if size == \"S\":\n",
        "        amount += 2\n",
        "    else:\n",
        "        amount += 3\n",
        "\n",
        "if extra_cheese == \"Y\":\n",
        "    amount += 1\n",
        "\n",
        "print(f\"Your final bill is: ${amount}.\")\n",
        "\n"
      ],
      "metadata": {
        "id": "WIsoD7XmU0pC",
        "colab": {
          "base_uri": "https://localhost:8080/"
        },
        "outputId": "83a74125-1459-46a0-e835-98a398e663f6"
      },
      "execution_count": 8,
      "outputs": [
        {
          "output_type": "stream",
          "name": "stdout",
          "text": [
            "Welcome to Python Pizza Deliveries!\n",
            "What size pizza do you want? S, M, or L L\n",
            "Do you want pepperoni? Y or N N\n",
            "Do you want extra cheese? Y or N N\n",
            "Your final bill is: $20.\n"
          ]
        }
      ]
    },
    {
      "cell_type": "code",
      "source": [],
      "metadata": {
        "id": "KeeAJPjpGki6"
      },
      "execution_count": 6,
      "outputs": []
    }
  ]
}