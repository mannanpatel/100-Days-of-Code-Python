{
  "nbformat": 4,
  "nbformat_minor": 0,
  "metadata": {
    "colab": {
      "provenance": []
    },
    "kernelspec": {
      "name": "python3",
      "display_name": "Python 3"
    },
    "language_info": {
      "name": "python"
    }
  },
  "cells": [
    {
      "cell_type": "markdown",
      "source": [
        "# Instructions\n"
      ],
      "metadata": {
        "id": "pFxkV8FbA1KE"
      }
    },
    {
      "cell_type": "markdown",
      "source": [
        "Write a program that works out whether if a given number is an odd or even number.\n",
        "\n",
        "Even numbers can be divided by 2 with no remainder.\n",
        "\n",
        "e.g. 86 is **even** because 86 ÷ 2 = 43\n",
        "\n",
        "43 does not have any decimal places. Therefore the division is clean.\n",
        "\n",
        "e.g. 59 is **odd** because 59 ÷ 2 = 29.5\n",
        "\n",
        "29.5 is not a whole number, it has decimal places. Therefore there is a remainder of 0.5, so the division is not clean.\n",
        "\n",
        "The **modulo** is written as a percentage sign (%) in Python. It gives you the remainder after a division.\n",
        "\n",
        "e.g.\n",
        "\n",
        "6 ÷ 2 = 3 with no remainder.\n",
        "\n",
        "therefore: 6 % 2 = 0\n",
        "\n",
        "5 ÷ 2 = 2 x 2 + 1, remainder is 1.\n",
        "\n",
        "therefore: 5 % 2 = 1\n",
        "\n",
        "14 ÷ 4 = 3 x 4 + 2, remainder is 2.\n",
        "\n",
        "therefore: 14 % 4 = 2\n",
        "\n",
        "Warning your output should match the Example Output format exactly, even the positions of the commas and full stops"
      ],
      "metadata": {
        "id": "RsKs5uB5F4h1"
      }
    },
    {
      "cell_type": "markdown",
      "source": [
        "# Example 1 Input\n",
        "43"
      ],
      "metadata": {
        "id": "9agPBKuKHqIq"
      }
    },
    {
      "cell_type": "markdown",
      "source": [
        "#Example 1 Output\n",
        "This is an odd number."
      ],
      "metadata": {
        "id": "ztftJyg3BPDW"
      }
    },
    {
      "cell_type": "markdown",
      "source": [
        "# Example 2 Input\n",
        "94"
      ],
      "metadata": {
        "id": "etxK2_sDGRYl"
      }
    },
    {
      "cell_type": "markdown",
      "source": [
        "# Example 2 Output\n",
        "This is an even number.\n"
      ],
      "metadata": {
        "id": "u_Pgeab_GX8t"
      }
    },
    {
      "cell_type": "markdown",
      "source": [
        "# Solution"
      ],
      "metadata": {
        "id": "f6ae6kSBPtlh"
      }
    },
    {
      "cell_type": "code",
      "source": [
        "# 🚨 Don't change the code below 👇\n",
        "number = int(input(\"Which number do you want to check? \"))\n",
        "# 🚨 Don't change the code above 👆\n",
        "\n",
        "#Write your code below this line 👇\n",
        "\n",
        "if number % 2 == 0:\n",
        "    print(\"This is an even number.\")\n",
        "else:\n",
        "    print(\"This is an odd number.\")\n"
      ],
      "metadata": {
        "id": "WIsoD7XmU0pC",
        "colab": {
          "base_uri": "https://localhost:8080/"
        },
        "outputId": "1ef5f4e7-6202-4139-df0a-8e2ba44a065a"
      },
      "execution_count": 1,
      "outputs": [
        {
          "output_type": "stream",
          "name": "stdout",
          "text": [
            "Which number do you want to check? 25\n",
            "This is an odd number.\n"
          ]
        }
      ]
    },
    {
      "cell_type": "code",
      "source": [],
      "metadata": {
        "id": "KeeAJPjpGki6"
      },
      "execution_count": null,
      "outputs": []
    }
  ]
}