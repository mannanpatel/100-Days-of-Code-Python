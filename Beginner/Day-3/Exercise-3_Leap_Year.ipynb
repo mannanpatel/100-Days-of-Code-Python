{
  "nbformat": 4,
  "nbformat_minor": 0,
  "metadata": {
    "colab": {
      "provenance": []
    },
    "kernelspec": {
      "name": "python3",
      "display_name": "Python 3"
    },
    "language_info": {
      "name": "python"
    }
  },
  "cells": [
    {
      "cell_type": "markdown",
      "source": [
        "# Instructions\n"
      ],
      "metadata": {
        "id": "pFxkV8FbA1KE"
      }
    },
    {
      "cell_type": "markdown",
      "source": [
        "Write a program that works out whether if a given year is a leap year. A normal year has 365 days, leap years have 366, with an extra day in February. The reason why we have leap years is really fascinating, this video does it more justice:\n",
        "\n",
        "https://www.youtube.com/watch?v=xX96xng7sAE\n",
        "\n",
        "This is how you work out whether if a particular year is a leap year.\n",
        "\n",
        "on every year that is evenly divisible by 4 \n",
        "\n",
        "**except** every year that is evenly divisible by 100 \n",
        "\n",
        "**unless** the year is also evenly divisible by 400\n",
        "\n",
        "e.g. The year 2000:\n",
        "\n",
        "2000 ÷ 4 = 500 (Leap)\n",
        "\n",
        "2000 ÷ 100 = 20 (Not Leap)\n",
        "\n",
        "2000 ÷ 400 = 5 (Leap!)\n",
        "\n",
        "So the year 2000 is a leap year.\n",
        "\n",
        "But the year 2100 is not a leap year because:\n",
        "\n",
        "2100 ÷ 4 = 525 (Leap)\n",
        "\n",
        "2100 ÷ 100 = 21 (Not Leap)\n",
        "\n",
        "2100 ÷ 400 = 5.25 (Not Leap)\n",
        "\n",
        "**Warning** your output should match the Example Output format exactly, even the positions of the commas and full stops."
      ],
      "metadata": {
        "id": "RsKs5uB5F4h1"
      }
    },
    {
      "cell_type": "markdown",
      "source": [
        "# Example Input\n",
        "2400"
      ],
      "metadata": {
        "id": "9agPBKuKHqIq"
      }
    },
    {
      "cell_type": "markdown",
      "source": [
        "#Example Output\n",
        "Leap year."
      ],
      "metadata": {
        "id": "ztftJyg3BPDW"
      }
    },
    {
      "cell_type": "markdown",
      "source": [
        "# Example Input\n",
        "1989"
      ],
      "metadata": {
        "id": "6jbeDQ0FMolB"
      }
    },
    {
      "cell_type": "markdown",
      "source": [
        "# Example Output\n",
        "Not leap year."
      ],
      "metadata": {
        "id": "B7VWkqa5MsgL"
      }
    },
    {
      "cell_type": "markdown",
      "source": [
        "# Solution"
      ],
      "metadata": {
        "id": "f6ae6kSBPtlh"
      }
    },
    {
      "cell_type": "code",
      "source": [
        "# 🚨 Don't change the code below 👇\n",
        "year = int(input(\"Which year do you want to check? \"))\n",
        "# 🚨 Don't change the code above 👆\n",
        "\n",
        "#Write your code below this line 👇\n",
        "if year % 4 == 0:\n",
        "    if year % 100 == 0:\n",
        "        if year % 400 == 0:\n",
        "            print(\"Leap year.\")\n",
        "        else:\n",
        "            print(\"Not leap year.\")\n",
        "    else:\n",
        "        print(\"Leap year.\")\n",
        "else:\n",
        "    print(\"Not leap year.\")\n"
      ],
      "metadata": {
        "id": "WIsoD7XmU0pC",
        "colab": {
          "base_uri": "https://localhost:8080/"
        },
        "outputId": "6f602d51-9be3-4a61-d4f6-40650c92f83b"
      },
      "execution_count": 3,
      "outputs": [
        {
          "output_type": "stream",
          "name": "stdout",
          "text": [
            "Which year do you want to check? 2002\n",
            "Not leap year.\n"
          ]
        }
      ]
    },
    {
      "cell_type": "code",
      "source": [],
      "metadata": {
        "id": "KeeAJPjpGki6"
      },
      "execution_count": null,
      "outputs": []
    }
  ]
}