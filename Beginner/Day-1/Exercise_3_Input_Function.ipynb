{
  "nbformat": 4,
  "nbformat_minor": 0,
  "metadata": {
    "colab": {
      "provenance": []
    },
    "kernelspec": {
      "name": "python3",
      "display_name": "Python 3"
    },
    "language_info": {
      "name": "python"
    }
  },
  "cells": [
    {
      "cell_type": "markdown",
      "source": [
        "#**Instructions**\n",
        "Write a program that prints the number of characters in a user's name. You might need to Google for a function that calculates the length of a string.\n",
        "\n",
        "**Warning**. Your program should work for different inputs. e.g. any name that you input.\n",
        "\n",
        "\n",
        "\n"
      ],
      "metadata": {
        "id": "pFxkV8FbA1KE"
      }
    },
    {
      "cell_type": "markdown",
      "source": [
        "# Example Input\n",
        "Manan\n"
      ],
      "metadata": {
        "id": "9agPBKuKHqIq"
      }
    },
    {
      "cell_type": "markdown",
      "source": [
        "#Example Output\n",
        "5"
      ],
      "metadata": {
        "id": "ztftJyg3BPDW"
      }
    },
    {
      "cell_type": "code",
      "source": [
        "#Write your code below this line 👇\n",
        "\n",
        "print(len(input(\"What is your name? \")))"
      ],
      "metadata": {
        "colab": {
          "base_uri": "https://localhost:8080/"
        },
        "id": "_kVgV-x7CRHP",
        "outputId": "d6b7a3b8-3d28-47d9-f641-86be0de14e9b"
      },
      "execution_count": 7,
      "outputs": [
        {
          "output_type": "stream",
          "name": "stdout",
          "text": [
            "What is your name? patel\n",
            "5\n"
          ]
        }
      ]
    },
    {
      "cell_type": "code",
      "source": [
        "length = input(\"What is your name? \")\n",
        "print(len(length))"
      ],
      "metadata": {
        "colab": {
          "base_uri": "https://localhost:8080/"
        },
        "id": "SA_kS9GJIHi-",
        "outputId": "cd96eb06-7a0f-4a1e-e8b0-5cfed3116c74"
      },
      "execution_count": 8,
      "outputs": [
        {
          "output_type": "stream",
          "name": "stdout",
          "text": [
            "What is your name? qwqwq\n",
            "5\n"
          ]
        }
      ]
    },
    {
      "cell_type": "code",
      "source": [],
      "metadata": {
        "id": "AazjatbvIL_g"
      },
      "execution_count": null,
      "outputs": []
    }
  ]
}