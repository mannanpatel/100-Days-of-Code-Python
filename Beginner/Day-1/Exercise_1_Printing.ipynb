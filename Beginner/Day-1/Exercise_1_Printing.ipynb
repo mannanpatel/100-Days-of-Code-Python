{
  "nbformat": 4,
  "nbformat_minor": 0,
  "metadata": {
    "colab": {
      "provenance": []
    },
    "kernelspec": {
      "name": "python3",
      "display_name": "Python 3"
    },
    "language_info": {
      "name": "python"
    }
  },
  "cells": [
    {
      "cell_type": "markdown",
      "source": [
        "#**Instructions**\n",
        "Write a program in main.py that prints the same notes from the previous lesson using what you have learnt about the Python print function.\n",
        "\n",
        "**Warning**: The output in your program should match the example output shown below exactly, character for character, even spaces and symbols should be identical, otherwise the tests won't pass.\n",
        "\n"
      ],
      "metadata": {
        "id": "pFxkV8FbA1KE"
      }
    },
    {
      "cell_type": "markdown",
      "source": [
        "#Example Output\n",
        "After you have written your code, you should run your program and it should print the following:\n",
        "\n",
        "Day 1 - Python Print Function\\\n",
        "The function is declared like this:\\\n",
        "print('what to print')"
      ],
      "metadata": {
        "id": "ztftJyg3BPDW"
      }
    },
    {
      "cell_type": "code",
      "source": [
        "#Write your code below this line 👇\n",
        "\n",
        "print(\"Day 1 - Python Print Function\")\n",
        "print(\"The function is declared like this:\")\n",
        "print(\"print('what to print')\")\n"
      ],
      "metadata": {
        "colab": {
          "base_uri": "https://localhost:8080/"
        },
        "id": "UiGQuoWNBi2E",
        "outputId": "b60d1934-b6b5-4d7d-a5ea-95f39cb27311"
      },
      "execution_count": 1,
      "outputs": [
        {
          "output_type": "stream",
          "name": "stdout",
          "text": [
            "Day 1 - Python Print Function\n",
            "The function is declared like this:\n",
            "print('what to print')\n"
          ]
        }
      ]
    },
    {
      "cell_type": "code",
      "source": [
        "print(\"print(\"What to print\")\")"
      ],
      "metadata": {
        "colab": {
          "base_uri": "https://localhost:8080/",
          "height": 132
        },
        "id": "_kVgV-x7CRHP",
        "outputId": "9783c8ae-3f76-4ac1-f84a-7e142b3be10f"
      },
      "execution_count": 2,
      "outputs": [
        {
          "output_type": "error",
          "ename": "SyntaxError",
          "evalue": "ignored",
          "traceback": [
            "\u001b[0;36m  File \u001b[0;32m\"<ipython-input-2-3fad58903205>\"\u001b[0;36m, line \u001b[0;32m1\u001b[0m\n\u001b[0;31m    print(\"print(\"What to print\")\")\u001b[0m\n\u001b[0m                  ^\u001b[0m\n\u001b[0;31mSyntaxError\u001b[0m\u001b[0;31m:\u001b[0m invalid syntax\n"
          ]
        }
      ]
    },
    {
      "cell_type": "code",
      "source": [],
      "metadata": {
        "id": "lydODYmbFXSl"
      },
      "execution_count": null,
      "outputs": []
    }
  ]
}