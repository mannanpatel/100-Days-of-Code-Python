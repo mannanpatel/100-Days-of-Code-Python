{
  "nbformat": 4,
  "nbformat_minor": 0,
  "metadata": {
    "colab": {
      "provenance": []
    },
    "kernelspec": {
      "name": "python3",
      "display_name": "Python 3"
    },
    "language_info": {
      "name": "python"
    }
  },
  "cells": [
    {
      "cell_type": "markdown",
      "source": [
        "#**Instructions**\n",
        "Look at the code in the code editor on the right. There are errors in all of the lines of code. Fix the code so that it runs without errors.\n",
        "\n",
        "**Warning**: The output in your program should match the example output shown below exactly, character for character, even spaces and symbols should be identical, otherwise the tests won't pass.\n",
        "\n"
      ],
      "metadata": {
        "id": "pFxkV8FbA1KE"
      }
    },
    {
      "cell_type": "markdown",
      "source": [
        "#Example Output\n",
        "When you run your program, it should print the following:\n",
        "\n",
        "Day 1 - String Manipulation\\\n",
        "String Concatenation is done with the \"+\" sign.\\\n",
        "e.g. print(\"Hello \" + \"world\")\\\n",
        "New lines can be created with a backslash and n."
      ],
      "metadata": {
        "id": "ztftJyg3BPDW"
      }
    },
    {
      "cell_type": "code",
      "source": [
        "#Fix the code below 👇\n",
        "\n",
        "print(Day 1 - String Manipulation\")\n",
        "print(\"String Concatenation is done with the \"+\" sign.\")\n",
        "  print('e.g. print(\"Hello \" + \"world\")')\n",
        "print((\"New lines can be created with a backslash and n.\")\n"
      ],
      "metadata": {
        "colab": {
          "base_uri": "https://localhost:8080/",
          "height": 132
        },
        "id": "UiGQuoWNBi2E",
        "outputId": "4704eaaf-d353-4a6e-f492-76038c383e33"
      },
      "execution_count": 4,
      "outputs": [
        {
          "output_type": "error",
          "ename": "SyntaxError",
          "evalue": "ignored",
          "traceback": [
            "\u001b[0;36m  File \u001b[0;32m\"<ipython-input-4-6aad373148c5>\"\u001b[0;36m, line \u001b[0;32m3\u001b[0m\n\u001b[0;31m    print(Day 1 - String Manipulation\")\u001b[0m\n\u001b[0m              ^\u001b[0m\n\u001b[0;31mSyntaxError\u001b[0m\u001b[0;31m:\u001b[0m invalid syntax\n"
          ]
        }
      ]
    },
    {
      "cell_type": "code",
      "source": [
        "print(\"Day 1 - String Manipulation\")\n",
        "print('String Concatenation is done with the \"+\" sign.')\n",
        "print('e.g. print(\"Hello \" + \"world\")')\n",
        "print(\"New lines can be created with a backslash and n.\")\n"
      ],
      "metadata": {
        "colab": {
          "base_uri": "https://localhost:8080/"
        },
        "id": "_kVgV-x7CRHP",
        "outputId": "1de17647-2228-403f-83f9-2e780604b084"
      },
      "execution_count": 5,
      "outputs": [
        {
          "output_type": "stream",
          "name": "stdout",
          "text": [
            "Day 1 - String Manipulation\n",
            "String Concatenation is done with the \"+\" sign.\n",
            "e.g. print(\"Hello \" + \"world\")\n",
            "New lines can be created with a backslash and n.\n"
          ]
        }
      ]
    },
    {
      "cell_type": "code",
      "source": [],
      "metadata": {
        "id": "lydODYmbFXSl"
      },
      "execution_count": null,
      "outputs": []
    }
  ]
}