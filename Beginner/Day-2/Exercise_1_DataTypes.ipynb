{
  "cells": [
    {
      "cell_type": "markdown",
      "metadata": {
        "id": "pFxkV8FbA1KE"
      },
      "source": [
        "# Instructions\n",
        "Write a program that adds the digits in a 2 digit number. e.g. if the input was 35, then the output should be 3 + 5 = 8\n",
        "\n",
        "**Warning**: Do not change the code on lines 1-3. Your program should work for different inputs. e.g. any two-digit number."
      ]
    },
    {
      "cell_type": "markdown",
      "metadata": {
        "id": "9agPBKuKHqIq"
      },
      "source": [
        "# Example Input\n",
        "39"
      ]
    },
    {
      "cell_type": "markdown",
      "metadata": {
        "id": "ztftJyg3BPDW"
      },
      "source": [
        "#Example Output\n",
        "3 + 9 = 12\\\n",
        "12"
      ]
    },
    {
      "cell_type": "code",
      "execution_count": 1,
      "metadata": {
        "colab": {
          "base_uri": "https://localhost:8080/"
        },
        "id": "_kVgV-x7CRHP",
        "outputId": "a899d559-a71e-4c19-a207-94fe9e892340"
      },
      "outputs": [
        {
          "name": "stdout",
          "output_type": "stream",
          "text": [
            "Type a two digit number: 23\n",
            "5\n"
          ]
        }
      ],
      "source": [
        "# 🚨 Don't change the code below 👇\n",
        "two_digit_number = input(\"Type a two digit number: \")\n",
        "# 🚨 Don't change the code above 👆\n",
        "\n",
        "####################################\n",
        "#Write your code below this line 👇\n",
        "\n",
        "first_digit = two_digit_number[0]\n",
        "seconf_digit = two_digit_number[1]\n",
        "\n",
        "total = int(first_digit) + int(seconf_digit)\n",
        "print(total)"
      ]
    },
    {
      "cell_type": "code",
      "execution_count": null,
      "metadata": {
        "id": "AazjatbvIL_g"
      },
      "outputs": [],
      "source": []
    }
  ],
  "metadata": {
    "colab": {
      "provenance": []
    },
    "kernelspec": {
      "display_name": "Python 3",
      "name": "python3"
    },
    "language_info": {
      "name": "python"
    }
  },
  "nbformat": 4,
  "nbformat_minor": 0
}
