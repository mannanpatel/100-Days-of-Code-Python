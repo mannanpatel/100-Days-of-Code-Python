{
  "nbformat": 4,
  "nbformat_minor": 0,
  "metadata": {
    "colab": {
      "provenance": []
    },
    "kernelspec": {
      "name": "python3",
      "display_name": "Python 3"
    },
    "language_info": {
      "name": "python"
    }
  },
  "cells": [
    {
      "cell_type": "markdown",
      "source": [
        "# Instructions\n",
        "I was reading this article by Tim Urban - Your Life in Weeks and realised just how little time we actually have.\n",
        "\n",
        "https://waitbutwhy.com/2014/05/life-weeks.html\n",
        "\n",
        "Create a program using maths and f-Strings that tells us how many days, weeks, months we have left if we live until 90 years old.\n",
        "\n",
        "It will take your current age as the input and output a message with our time left in this format:\n",
        "\n",
        "     You have x days, y weeks, and z months left.\n",
        "\n",
        "Where x, y and z are replaced with the actual calculated numbers.\n",
        "\n",
        "Warning your output should match the Example Output format exactly, even the positions of the commas and full stops."
      ],
      "metadata": {
        "id": "pFxkV8FbA1KE"
      }
    },
    {
      "cell_type": "markdown",
      "source": [
        "# Example Input\n",
        "56"
      ],
      "metadata": {
        "id": "9agPBKuKHqIq"
      }
    },
    {
      "cell_type": "markdown",
      "source": [
        "#Example Output\n",
        "You have 12410 days, 1768 weeks, and 408 months left."
      ],
      "metadata": {
        "id": "ztftJyg3BPDW"
      }
    },
    {
      "cell_type": "markdown",
      "source": [
        "# Solution"
      ],
      "metadata": {
        "id": "f6ae6kSBPtlh"
      }
    },
    {
      "cell_type": "code",
      "source": [
        "# 🚨 Don't change the code below 👇\n",
        "age = input(\"What is your current age? \")\n",
        "# 🚨 Don't change the code above 👆\n",
        "\n",
        "#Write your code below this line 👇\n",
        "age = int(age)\n",
        "\n",
        "expected_live_year = 90\n",
        "remaing_age = expected_live_year - age\n",
        "\n",
        "days_remaing = remaing_age * 365\n",
        "week_remaing = remaing_age * 52\n",
        "month_remaing = remaing_age * 12\n",
        "\n",
        "message = f\"You have {days_remaing} days, {week_remaing} weeks, and {month_remaing} months left.\"\n",
        "\n",
        "print(message)\n"
      ],
      "metadata": {
        "colab": {
          "base_uri": "https://localhost:8080/"
        },
        "id": "_kVgV-x7CRHP",
        "outputId": "15073058-69ea-4f7e-bac7-8f10da51c6f1"
      },
      "execution_count": 7,
      "outputs": [
        {
          "output_type": "stream",
          "name": "stdout",
          "text": [
            "What is your current age? 56\n",
            "You have 12410 days, 1768 weeks, and 408 months left.\n"
          ]
        }
      ]
    },
    {
      "cell_type": "code",
      "source": [],
      "metadata": {
        "id": "5_2MnbVeNtD-"
      },
      "execution_count": null,
      "outputs": []
    }
  ]
}