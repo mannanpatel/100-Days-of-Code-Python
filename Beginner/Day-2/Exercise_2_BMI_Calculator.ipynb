{
  "nbformat": 4,
  "nbformat_minor": 0,
  "metadata": {
    "colab": {
      "provenance": []
    },
    "kernelspec": {
      "name": "python3",
      "display_name": "Python 3"
    },
    "language_info": {
      "name": "python"
    }
  },
  "cells": [
    {
      "cell_type": "markdown",
      "source": [
        "# Instructions\n",
        "Write a program that calculates the Body Mass Index (BMI) from a user's weight and height.\n",
        "\n",
        "The BMI is a measure of someone's weight taking into account their height. e.g. If a tall person and a short person both weigh the same amount, the short person is usually more overweight.\n",
        "\n",
        "The BMI is calculated by dividing a person's weight (in kg) by the square of their height (in m):\n",
        "\n",
        "**BMI = weight(kg) / height^2 (m^2)**\n",
        "\n",
        "**Warning** you should convert the result to a whole number."
      ],
      "metadata": {
        "id": "pFxkV8FbA1KE"
      }
    },
    {
      "cell_type": "markdown",
      "source": [
        "# Example Input\n",
        "weight = 80\\\n",
        "height = 1.75"
      ],
      "metadata": {
        "id": "9agPBKuKHqIq"
      }
    },
    {
      "cell_type": "markdown",
      "source": [
        "#Example Output\n",
        "80 ÷ (1.75 x 1.75) = 26.122448979591837\\\n",
        "26"
      ],
      "metadata": {
        "id": "ztftJyg3BPDW"
      }
    },
    {
      "cell_type": "code",
      "source": [
        "# 🚨 Don't change the code below 👇\n",
        "height = input(\"enter your height in m: \")\n",
        "weight = input(\"enter your weight in kg: \")\n",
        "# 🚨 Don't change the code above 👆\n",
        "\n",
        "#Write your code below this line 👇\n",
        "BMI = int(weight) / float(height)**2\n",
        "print(int(BMI))"
      ],
      "metadata": {
        "colab": {
          "base_uri": "https://localhost:8080/"
        },
        "id": "_kVgV-x7CRHP",
        "outputId": "87172eec-7e2f-459a-f54c-81fd330fd439"
      },
      "execution_count": 5,
      "outputs": [
        {
          "output_type": "stream",
          "name": "stdout",
          "text": [
            "enter your height in m: 3.7\n",
            "enter your weight in kg: 56\n",
            "4\n"
          ]
        }
      ]
    },
    {
      "cell_type": "code",
      "source": [],
      "metadata": {
        "id": "AazjatbvIL_g"
      },
      "execution_count": 2,
      "outputs": []
    }
  ]
}